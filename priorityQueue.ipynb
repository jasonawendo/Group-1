{
 "cells": [
  {
   "cell_type": "code",
   "execution_count": 1,
   "id": "35d1df45",
   "metadata": {},
   "outputs": [],
   "source": [
    "class PriorityQueue(object):\n",
    "    def __init__(self):\n",
    "        self.queue = []\n",
    "\n",
    "    def __str__(self):\n",
    "        return ' '.join([str(i) for i in self.queue])\n",
    "\n",
    "    # for checking if the queue is empty\n",
    "    def isEmpty(self):\n",
    "        return len(self.queue) == []\n",
    "\n",
    "    # for inserting an element in the queue\n",
    "    def insert(self, data):\n",
    "        self.queue.append(data)\n",
    "\n",
    "    # for popping an element based on Priority\n",
    "    def delete(self):\n",
    "        try:\n",
    "            min = 0\n",
    "            for i in range(len(self.queue)):\n",
    "                if self.queue[i][1] < self.queue[min][1]:\n",
    "                    min = i\n",
    "\n",
    "            item = self.queue[min]\n",
    "            del self.queue[min]\n",
    "            return item\n",
    "\n",
    "        except IndexError:\n",
    "            print()\n",
    "            return\n",
    "\n",
    "    def makeEmpty(self):\n",
    "        del self.queue[:]\n"
   ]
  }
 ],
 "metadata": {
  "kernelspec": {
   "display_name": "Python 3 (ipykernel)",
   "language": "python",
   "name": "python3"
  },
  "language_info": {
   "codemirror_mode": {
    "name": "ipython",
    "version": 3
   },
   "file_extension": ".py",
   "mimetype": "text/x-python",
   "name": "python",
   "nbconvert_exporter": "python",
   "pygments_lexer": "ipython3",
   "version": "3.9.12"
  }
 },
 "nbformat": 4,
 "nbformat_minor": 5
}
