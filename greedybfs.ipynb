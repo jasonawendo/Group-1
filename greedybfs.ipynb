{
 "cells": [
  {
   "cell_type": "code",
   "execution_count": 1,
   "id": "30215bff",
   "metadata": {},
   "outputs": [],
   "source": [
    "# -*- coding: utf-8 -*-\n",
    "\n",
    "from priorityQueue import PriorityQueue\n",
    "from graph import Graph\n",
    "\n",
    "g = {\n",
    "        'SC':[('Siwaka',450)],\n",
    "        'Siwaka':[('Ph.1A',10), ('Ph.1B',230)],\n",
    "        'Ph.1A':[('Ph.1B',100),('Mada',850)],\n",
    "        'Ph.1B':[('STC',50), ('Ph.2',112)],\n",
    "        'STC':[('Ph.2',50), ('PL',250)],\n",
    "        'Ph.2':[('Ph.3',500), ('J1',600)],\n",
    "        'J1':[('Mada',200)],\n",
    "        'Ph.3':[('PL',350)],\n",
    "        'Mada':[('PL',700)]\n",
    "    }\n",
    "\n",
    "def gbfs(start_node, end_node, graph_input={}):\n",
    "    path = []\n",
    "    myQueue = PriorityQueue()\n",
    "    graph = Graph(g)\n",
    "    \n",
    "    start_node = start_node\n",
    "    end_node = end_node\n",
    "\n",
    "#     print(start_node, end='')\n",
    "    # start = graph.get_node_details(start_node)\n",
    "    current_node = [start_node]\n",
    "\n",
    "    while current_node[0] != end_node:\n",
    "        \n",
    "        current_node = graph.return_edges(current_node[0])\n",
    "        myQueue.makeEmpty()\n",
    "        \n",
    "        for item in current_node:\n",
    "            myQueue.insert(item)\n",
    "\n",
    "        current_node = myQueue.delete()\n",
    "        path.append(current_node[0])\n",
    "        \n",
    "        \n",
    "        \n",
    "#         print(\"-> \" + str(current_node[0]) , end = '')\n",
    "    return path\n"
   ]
  },
  {
   "cell_type": "code",
   "execution_count": 2,
   "id": "36285336",
   "metadata": {},
   "outputs": [
    {
     "data": {
      "text/plain": [
       "['Siwaka', 'Ph.1A', 'Ph.1B', 'STC', 'Ph.2', 'Ph.3', 'PL']"
      ]
     },
     "execution_count": 2,
     "metadata": {},
     "output_type": "execute_result"
    }
   ],
   "source": [
    "gbfs('SC', 'PL')"
   ]
  },
  {
   "cell_type": "code",
   "execution_count": 3,
   "id": "ef9593f2",
   "metadata": {},
   "outputs": [],
   "source": [
    "# -*- coding: utf-8 -*-\n",
    "\n",
    "from priorityQueue import PriorityQueue\n",
    "from graph import Graph\n",
    "\n",
    "g = {\n",
    "        'SC':[('Siwaka',450)],\n",
    "        'Siwaka':[('Ph.1A',10), ('Ph.1B',230)],\n",
    "        'Ph.1A':[('Ph.1B',100),('Mada',850)],\n",
    "        'Ph.1B':[('STC',50), ('Ph.2',112)],\n",
    "        'STC':[('Ph.2',50), ('PL',250)],\n",
    "        'Ph.2':[('Ph.3',500), ('J1',600)],\n",
    "        'J1':[('Mada',200)],\n",
    "        'Ph.3':[('PL',350)],\n",
    "        'Mada':[('PL',700)]\n",
    "    }\n",
    "\n",
    "def gbfs(start_node, end_node, graph_input={}):\n",
    "    path = []\n",
    "    myQueue = PriorityQueue()\n",
    "    graph = Graph(g)\n",
    "    \n",
    "    start_node = start_node\n",
    "    end_node = end_node\n",
    "\n",
    "#     print(start_node, end='')\n",
    "    # start = graph.get_node_details(start_node)\n",
    "    current_node = [start_node]\n",
    "\n",
    "#     while current_node[0] != end_node:\n",
    "    while True:\n",
    "        current_node = graph.return_edges(current_node[0])\n",
    "        myQueue.makeEmpty()\n",
    "\n",
    "        for item in current_node:\n",
    "            myQueue.insert(item)\n",
    "\n",
    "        current_node = myQueue.delete()\n",
    "        path.append(current_node[0])\n",
    "        \n",
    "        if current_node[0] == end_node:\n",
    "            break\n",
    "    \n",
    "        \n",
    "        \n",
    "#         print(\"-> \" + str(current_node[0]) , end = '')\n",
    "    return path\n"
   ]
  },
  {
   "cell_type": "code",
   "execution_count": 4,
   "id": "24ce4d7d",
   "metadata": {},
   "outputs": [
    {
     "data": {
      "text/plain": [
       "['Siwaka', 'Ph.1A', 'Ph.1B', 'STC', 'Ph.2', 'Ph.3', 'PL']"
      ]
     },
     "execution_count": 4,
     "metadata": {},
     "output_type": "execute_result"
    }
   ],
   "source": [
    "gbfs('SC', 'PL')"
   ]
  },
  {
   "cell_type": "code",
   "execution_count": null,
   "id": "275849e3",
   "metadata": {},
   "outputs": [],
   "source": []
  }
 ],
 "metadata": {
  "kernelspec": {
   "display_name": "Python 3 (ipykernel)",
   "language": "python",
   "name": "python3"
  },
  "language_info": {
   "codemirror_mode": {
    "name": "ipython",
    "version": 3
   },
   "file_extension": ".py",
   "mimetype": "text/x-python",
   "name": "python",
   "nbconvert_exporter": "python",
   "pygments_lexer": "ipython3",
   "version": "3.9.12"
  }
 },
 "nbformat": 4,
 "nbformat_minor": 5
}
